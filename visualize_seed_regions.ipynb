{
 "cells": [
  {
   "cell_type": "code",
   "execution_count": 7,
   "metadata": {},
   "outputs": [],
   "source": [
    "import numpy as np\n",
    "import nibabel as nib\n",
    "import matplotlib.pyplot as plt"
   ]
  },
  {
   "cell_type": "code",
   "execution_count": 134,
   "metadata": {},
   "outputs": [],
   "source": [
    "atlas_path = 'atlases/Schaefer2018_400Parcels_7Networks_order_FSLMNI152_2mm.nii.gz'\n",
    "atlas = nib.load(atlas_path)\n",
    "atlas_data = atlas.get_fdata()"
   ]
  },
  {
   "cell_type": "code",
   "execution_count": 155,
   "metadata": {},
   "outputs": [],
   "source": [
    "def isolate_parcel(nifti, i):\n",
    "    idx = np.where(nifti==i)\n",
    "    non_idx = np.where((nifti != i) & (nifti != 0))\n",
    "    nifti[non_idx] = 300 # 300 and 100 are arbitrary. Just giving contrast to parcel\n",
    "    nifti[idx] = 100 \n",
    "    return nifti\n",
    "    \n",
    "def plot_slices(data, slice_nums, parcel_num, cmap='jet', figsize=(10, 8), cols_per_row=3):\n",
    "    # Calculate number of rows needed\n",
    "    num_slices = len(slice_nums)\n",
    "    rows = (num_slices + cols_per_row - 1) // cols_per_row  # Ceiling division\n",
    "\n",
    "    # Create subplots\n",
    "    fig, axes = plt.subplots(rows, cols_per_row, figsize=figsize)\n",
    "    axes = axes.flatten()  # Flatten the axes array for easy iteration\n",
    "\n",
    "    # Plot each slice\n",
    "    for i, slice_num in enumerate(slice_nums):\n",
    "        axes[i].imshow(data[:, :, slice_num], cmap=cmap)\n",
    "        axes[i].axis('off')\n",
    "\n",
    "    # Turn off any unused subplots\n",
    "    for j in range(i + 1, len(axes)):\n",
    "        axes[j].axis('off')\n",
    "\n",
    "    # Save and close the figure\n",
    "    # plt.show()\n",
    "    plt.savefig(f'parcels/parcel_{parcel_num}.png')\n",
    "    plt.close()\n",
    "    "
   ]
  },
  {
   "cell_type": "code",
   "execution_count": 156,
   "metadata": {},
   "outputs": [],
   "source": [
    "for i in range(1, 401): # for 400 parcels\n",
    "    new_nifti = np.copy(atlas_data)\n",
    "    parcel = isolate_parcel(new_nifti, i)\n",
    "    slices = list(range(20, 70, 3))\n",
    "    plot_slices(parcel, slices, i, cmap='jet')"
   ]
  },
  {
   "cell_type": "code",
   "execution_count": null,
   "metadata": {},
   "outputs": [],
   "source": []
  }
 ],
 "metadata": {
  "kernelspec": {
   "display_name": "Python 3",
   "language": "python",
   "name": "python3"
  },
  "language_info": {
   "codemirror_mode": {
    "name": "ipython",
    "version": 3
   },
   "file_extension": ".py",
   "mimetype": "text/x-python",
   "name": "python",
   "nbconvert_exporter": "python",
   "pygments_lexer": "ipython3",
   "version": "3.8.10"
  }
 },
 "nbformat": 4,
 "nbformat_minor": 2
}
