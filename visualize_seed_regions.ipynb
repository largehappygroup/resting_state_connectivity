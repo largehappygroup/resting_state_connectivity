{
 "cells": [
  {
   "cell_type": "code",
   "execution_count": 2,
   "metadata": {},
   "outputs": [],
   "source": [
    "import numpy as np\n",
    "import nibabel as nib\n",
    "import matplotlib.pyplot as plt"
   ]
  },
  {
   "cell_type": "code",
   "execution_count": 3,
   "metadata": {},
   "outputs": [],
   "source": [
    "atlas_path = 'atlases/Schaefer2018_400Parcels_7Networks_order_FSLMNI152_2mm.nii.gz'\n",
    "atlas = nib.load(atlas_path)\n",
    "atlas_data = atlas.get_fdata()\n",
    "atlas_copy = np.copy(atlas_data) # making copies so the original doesn't get modified with any of the below code\n",
    "\n",
    "mni_path = 'atlases/MNI152_T1_2mm_brain.nii.gz'\n",
    "mni = nib.load(mni_path)\n",
    "mni_data = mni.get_fdata()\n",
    "mni_copy = np.copy(mni_data)"
   ]
  },
  {
   "cell_type": "code",
   "execution_count": 4,
   "metadata": {},
   "outputs": [],
   "source": [
    "def find_maximal_slices(nifti, parcel):\n",
    "    # finds the slice with the maximum number of occurrences of 'parcel'\n",
    "    def find_max_slice(axis):\n",
    "        axis_counts = np.sum(nifti == parcel, axis=axis) # counts of boolean arrays for slices \n",
    "        return np.argmax(axis_counts)\n",
    "\n",
    "    # finding max on specific axes\n",
    "    m = find_max_slice(axis=(1, 2)) \n",
    "    n = find_max_slice(axis=(0, 2))\n",
    "    p = find_max_slice(axis=(0, 1))\n",
    "    return [m,n,p]\n",
    "    \n",
    "    \n",
    "def plot_slices(data, max_list, parcel):\n",
    "    x,y,z = max_list[0], max_list[1], max_list[2] # taking in slices that show maximal coverage of current parcel\n",
    "    \n",
    "    slices = [np.rot90(data[x,:,:]), # saggital\n",
    "              np.rot90(data[:,y,:]), # coronal\n",
    "              np.rot90(data[:,:,z])] # axial\n",
    "    \n",
    "    mni_slices = [np.rot90(mni_copy[x,:,:]), \n",
    "                  np.rot90(mni_copy[:,y,:]), \n",
    "                  np.rot90(mni_copy[:,:,z])]\n",
    "    \n",
    "    \n",
    "    if parcel < 200: # flipping the left hemisphere images so they're more intuitive\n",
    "        slices[0] = np.fliplr(slices[0])\n",
    "        mni_slices[0] = np.fliplr(mni_slices[0])\n",
    "    \n",
    "    for i in range(1,3): # rotate views 2 and 3 for all parcels since atlases are flipped\n",
    "        slices[i] = np.fliplr(slices[i])\n",
    "        mni_slices[i] = np.fliplr(mni_slices[i])\n",
    "    \n",
    "    mask_color = [1, 0, 0, 1]  # RGBA for red\n",
    "    fig, axes = plt.subplots(1, 3, figsize=(10,8))\n",
    "    \n",
    "    for i in range(3):\n",
    "        curr_slice = slices[i]\n",
    "        idx = np.where(curr_slice == parcel)    \n",
    "        mask = np.zeros((*curr_slice.shape, 4))  # Shape: height x width x 4 (RGBA)\n",
    "        \n",
    "        # Set the color only in the region of interest\n",
    "        mask[idx] = mask_color\n",
    "        axes[i].imshow(mni_slices[i], cmap='gray')\n",
    "        axes[i].imshow(mask, interpolation='none') # plotting mask on top of grayscale image\n",
    "        axes[i].axis('off')\n",
    "        \n",
    "    plt.savefig(f'parcels/parcel_{parcel}.png')\n",
    "    plt.close()\n",
    "\n",
    "    "
   ]
  },
  {
   "cell_type": "code",
   "execution_count": 5,
   "metadata": {},
   "outputs": [],
   "source": [
    "for i in range(1, 401): # for 400 parcels\n",
    "    slices = find_maximal_slices(atlas_copy, i)\n",
    "    plot_slices(atlas_copy, slices, i)"
   ]
  },
  {
   "cell_type": "code",
   "execution_count": null,
   "metadata": {},
   "outputs": [],
   "source": []
  }
 ],
 "metadata": {
  "kernelspec": {
   "display_name": "Python 3",
   "language": "python",
   "name": "python3"
  },
  "language_info": {
   "codemirror_mode": {
    "name": "ipython",
    "version": 3
   },
   "file_extension": ".py",
   "mimetype": "text/x-python",
   "name": "python",
   "nbconvert_exporter": "python",
   "pygments_lexer": "ipython3",
   "version": "3.8.10"
  }
 },
 "nbformat": 4,
 "nbformat_minor": 2
}
