{
 "cells": [
  {
   "cell_type": "code",
   "execution_count": 91,
   "id": "21468a86-c442-4d85-8cfa-8cf509ebf158",
   "metadata": {},
   "outputs": [],
   "source": [
    "import os\n",
    "import re\n",
    "import numpy as np\n",
    "import pandas as pd\n",
    "from scipy.stats import mode\n",
    "from sklearn.metrics import accuracy_score\n",
    "from sklearn.ensemble import RandomForestClassifier\n",
    "from sklearn.model_selection import train_test_split"
   ]
  },
  {
   "cell_type": "code",
   "execution_count": 92,
   "id": "ca43d4f3",
   "metadata": {},
   "outputs": [],
   "source": [
    "# Loading data\n",
    "# seedvals = [58,133,192,339,377,395]\n",
    "seedvals = [8,17,58,70,71,74,133,136,192,209,216,271,339,376,377,378,395,396,397];\n",
    "data = np.empty((59,399,19))\n",
    "for i in range(len(seedvals)):\n",
    "    path = f\"../midprocessing/correlationz_seed{seedvals[i]}.csv\"\n",
    "    df = pd.read_csv(path, header=None)\n",
    "    data[:,:,i] = df\n",
    "\n",
    "labels = np.array([1,2,1,1,2,2,2,3,2,1,1,2,2,1,1,3,3,3,3,2,2,1,3,2,3,2,2,2,3,3,3,3,3,2,2,2,2,2,2,1,2,1,1,2,1,2,1,1,1,1,2,1,1,1,1,1,1,3,1])"
   ]
  },
  {
   "cell_type": "code",
   "execution_count": 93,
   "id": "73805b96",
   "metadata": {},
   "outputs": [],
   "source": [
    "# seed_train_test_data = np.empty\n",
    "seed_train_test_data = []\n",
    "for i in range(len(seedvals)):\n",
    "    next_seed = train_test_split(data[:,:,i], labels, test_size=0.3, random_state=42)\n",
    "    seed_train_test_data.append(next_seed)\n",
    "    \n"
   ]
  },
  {
   "cell_type": "code",
   "execution_count": 169,
   "id": "18899b62",
   "metadata": {},
   "outputs": [],
   "source": [
    "models = []\n",
    "\n",
    "for X_train, X_test, y_train, y_test in seed_train_test_data:\n",
    "    forest = RandomForestClassifier(random_state=42, bootstrap=False, max_depth=None, max_features='sqrt', min_samples_leaf=5, min_samples_split=10, n_estimators=60)\n",
    "    forest.fit(X_train, y_train)\n",
    "    models.append(forest)"
   ]
  },
  {
   "cell_type": "code",
   "execution_count": 170,
   "id": "a91fad18",
   "metadata": {},
   "outputs": [
    {
     "name": "stderr",
     "output_type": "stream",
     "text": [
      "/tmp/ipykernel_2469143/3118317767.py:10: FutureWarning: Unlike other reduction functions (e.g. `skew`, `kurtosis`), the default behavior of `mode` typically preserves the axis it acts along. In SciPy 1.11.0, this behavior will change: the default value of `keepdims` will become False, the `axis` over which the statistic is taken will be eliminated, and the value None will no longer be accepted. Set `keepdims` to True or False to avoid this warning.\n",
      "  final_predictions, _ = mode(all_predictions, axis=1)\n"
     ]
    }
   ],
   "source": [
    "test_sets = [data[1] for data in seed_train_test_data]  # Extracting X_test sets\n",
    "num_participants = test_sets[0].shape[0]\n",
    "\n",
    "# Collect predictions from each model\n",
    "all_predictions = np.zeros((num_participants, len(models)))\n",
    "for i, model in enumerate(models):\n",
    "    all_predictions[:, i] = model.predict(test_sets[i])\n",
    "\n",
    "# Use majority voting for final prediction\n",
    "final_predictions, _ = mode(all_predictions, axis=1)\n",
    "final_predictions = final_predictions.flatten()"
   ]
  },
  {
   "cell_type": "code",
   "execution_count": 171,
   "id": "3bd95f2d",
   "metadata": {},
   "outputs": [
    {
     "name": "stdout",
     "output_type": "stream",
     "text": [
      "Ensemble model accuracy: 0.3888888888888889\n"
     ]
    }
   ],
   "source": [
    "y_test_ensemble = seed_train_test_data[0][3]  # Assuming the same test labels for all seeds\n",
    "ensemble_accuracy = accuracy_score(y_test_ensemble, final_predictions)\n",
    "print(f\"Ensemble model accuracy: {ensemble_accuracy}\")"
   ]
  },
  {
   "cell_type": "code",
   "execution_count": 172,
   "id": "e27517a0",
   "metadata": {},
   "outputs": [
    {
     "name": "stdout",
     "output_type": "stream",
     "text": [
      "Accuracy for seed 1: 0.5555555555555556\n",
      "Accuracy for seed 2: 0.3333333333333333\n",
      "Accuracy for seed 3: 0.4444444444444444\n",
      "Accuracy for seed 4: 0.3333333333333333\n",
      "Accuracy for seed 5: 0.5\n",
      "Accuracy for seed 6: 0.4444444444444444\n",
      "Accuracy for seed 7: 0.3888888888888889\n",
      "Accuracy for seed 8: 0.16666666666666666\n",
      "Accuracy for seed 9: 0.1111111111111111\n",
      "Accuracy for seed 10: 0.5\n",
      "Accuracy for seed 11: 0.6111111111111112\n",
      "Accuracy for seed 12: 0.2222222222222222\n",
      "Accuracy for seed 13: 0.16666666666666666\n",
      "Accuracy for seed 14: 0.3333333333333333\n",
      "Accuracy for seed 15: 0.3333333333333333\n",
      "Accuracy for seed 16: 0.3888888888888889\n",
      "Accuracy for seed 17: 0.2222222222222222\n",
      "Accuracy for seed 18: 0.2777777777777778\n",
      "Accuracy for seed 19: 0.2222222222222222\n"
     ]
    }
   ],
   "source": [
    "for i, (X_train, X_test, y_train, y_test) in enumerate(seed_train_test_data):\n",
    "    y_pred = models[i].predict(X_test)\n",
    "    print(f\"Accuracy for seed {i+1}: {accuracy_score(y_test, y_pred)}\")"
   ]
  },
  {
   "cell_type": "code",
   "execution_count": 173,
   "id": "1dfb7f69",
   "metadata": {},
   "outputs": [
    {
     "name": "stdout",
     "output_type": "stream",
     "text": [
      "Best parameters: {'bootstrap': False, 'max_depth': None, 'max_features': 'sqrt', 'min_samples_leaf': 1, 'min_samples_split': 5, 'n_estimators': 50}\n",
      "Best score: 0.5277777777777778\n"
     ]
    }
   ],
   "source": [
    "from sklearn.ensemble import RandomForestClassifier\n",
    "from sklearn.model_selection import GridSearchCV\n",
    "\n",
    "# Define a grid of hyperparameters to search\n",
    "param_grid = {\n",
    "    'n_estimators': [50, 60, 75, 90, 100],\n",
    "    'max_depth': [None, 10, 20, 30],\n",
    "    'min_samples_split': [2, 5, 8, 10],\n",
    "    'min_samples_leaf': [1, 2, 4],\n",
    "    'max_features': ['sqrt', 'log2'],\n",
    "    'bootstrap': [True, False]\n",
    "}\n",
    "\n",
    "# Initialize the classifier\n",
    "clf = RandomForestClassifier(random_state=42)\n",
    "\n",
    "# Set up the grid search\n",
    "grid_search = GridSearchCV(estimator=clf, param_grid=param_grid, cv=5, scoring='accuracy', n_jobs=-1)\n",
    "\n",
    "# Fit the grid search to the data (using one of the seed data splits as an example)\n",
    "X_train, X_test, y_train, y_test = seed_train_test_data[18]  # Assuming this is one of your seed splits\n",
    "grid_search.fit(X_train, y_train)\n",
    "\n",
    "# Print the best parameters and best score\n",
    "print(\"Best parameters:\", grid_search.best_params_)\n",
    "print(\"Best score:\", grid_search.best_score_)\n",
    "\n",
    "# Use the best estimator for further predictions\n",
    "best_clf = grid_search.best_estimator_"
   ]
  },
  {
   "cell_type": "code",
   "execution_count": null,
   "id": "8d1e46a4",
   "metadata": {},
   "outputs": [],
   "source": [
    "# 19 seed regions\n",
    "{'bootstrap': True, 'max_depth': None, 'max_features': 'sqrt', 'min_samples_leaf': 2, 'min_samples_split': 5, 'n_estimators': 50}\n",
    "{'bootstrap': False, 'max_depth': None, 'max_features': 'sqrt', 'min_samples_leaf': 2, 'min_samples_split': 2, 'n_estimators': 75}\n",
    "{'bootstrap': True, 'max_depth': None, 'max_features': 'sqrt', 'min_samples_leaf': 2, 'min_samples_split': 8, 'n_estimators': 60}\n",
    "{'bootstrap': True, 'max_depth': None, 'max_features': 'log2', 'min_samples_leaf': 4, 'min_samples_split': 10, 'n_estimators': 50}\n",
    "{'bootstrap': False, 'max_depth': None, 'max_features': 'sqrt', 'min_samples_leaf': 2, 'min_samples_split': 10, 'n_estimators': 90}\n",
    "{'bootstrap': False, 'max_depth': None, 'max_features': 'sqrt', 'min_samples_leaf': 1, 'min_samples_split': 10, 'n_estimators': 50}\n",
    "{'bootstrap': True, 'max_depth': None, 'max_features': 'sqrt', 'min_samples_leaf': 1, 'min_samples_split': 2, 'n_estimators': 50}\n",
    "{'bootstrap': False, 'max_depth': None, 'max_features': 'log2', 'min_samples_leaf': 2, 'min_samples_split': 5, 'n_estimators': 75}\n",
    "{'bootstrap': False, 'max_depth': None, 'max_features': 'log2', 'min_samples_leaf': 1, 'min_samples_split': 5, 'n_estimators': 90}\n",
    "{'bootstrap': False, 'max_depth': None, 'max_features': 'sqrt', 'min_samples_leaf': 4, 'min_samples_split': 10, 'n_estimators': 50}\n",
    "{'bootstrap': True, 'max_depth': None, 'max_features': 'sqrt', 'min_samples_leaf': 2, 'min_samples_split': 5, 'n_estimators': 60}\n",
    "{'bootstrap': True, 'max_depth': None, 'max_features': 'sqrt', 'min_samples_leaf': 2, 'min_samples_split': 10, 'n_estimators': 50}\n",
    "{'bootstrap': False, 'max_depth': None, 'max_features': 'log2', 'min_samples_leaf': 2, 'min_samples_split': 8, 'n_estimators': 50}\n",
    "{'bootstrap': False, 'max_depth': None, 'max_features': 'sqrt', 'min_samples_leaf': 1, 'min_samples_split': 10, 'n_estimators': 50}\n",
    "{'bootstrap': False, 'max_depth': None, 'max_features': 'log2', 'min_samples_leaf': 1, 'min_samples_split': 10, 'n_estimators': 75}\n",
    "{'bootstrap': False, 'max_depth': None, 'max_features': 'log2', 'min_samples_leaf': 1, 'min_samples_split': 2, 'n_estimators': 60}\n",
    "{'bootstrap': True, 'max_depth': None, 'max_features': 'log2', 'min_samples_leaf': 2, 'min_samples_split': 5, 'n_estimators': 50}\n",
    "{'bootstrap': False, 'max_depth': None, 'max_features': 'sqrt', 'min_samples_leaf': 1, 'min_samples_split': 5, 'n_estimators': 50}"
   ]
  },
  {
   "cell_type": "code",
   "execution_count": null,
   "id": "e5360ab9",
   "metadata": {},
   "outputs": [],
   "source": [
    "# 6 seed regions\n",
    "{'bootstrap': False, 'max_depth': None, 'max_features': 'log2', 'min_samples_leaf': 2, 'min_samples_split': 5, 'n_estimators': 75}\n",
    "{'bootstrap': False, 'max_depth': None, 'max_features': 'sqrt', 'min_samples_leaf': 1, 'min_samples_split': 10, 'n_estimators': 50}\n",
    "{'bootstrap': True, 'max_depth': None, 'max_features': 'log2', 'min_samples_leaf': 1, 'min_samples_split': 10, 'n_estimators': 50}\n",
    "{'bootstrap': False, 'max_depth': None, 'max_features': 'sqrt', 'min_samples_leaf': 2, 'min_samples_split': 5, 'n_estimators': 100}\n",
    "{'bootstrap': False, 'max_depth': None, 'max_features': 'log2', 'min_samples_leaf': 1, 'min_samples_split': 5, 'n_estimators': 75}\n",
    "{'bootstrap': False, 'max_depth': None, 'max_features': 'log2', 'min_samples_leaf': 1, 'min_samples_split': 8, 'n_estimators': 100}\n",
    "\n",
    "\n",
    "params = ('bootstrap'=False, 'max_depth'=None, 'max_features'=75, 'min_samples_leaf'=1, 'min_samples_split'=5, 'n_estimators'=75)"
   ]
  }
 ],
 "metadata": {
  "kernelspec": {
   "display_name": "Python 3 (ipykernel)",
   "language": "python",
   "name": "python3"
  },
  "language_info": {
   "codemirror_mode": {
    "name": "ipython",
    "version": 3
   },
   "file_extension": ".py",
   "mimetype": "text/x-python",
   "name": "python",
   "nbconvert_exporter": "python",
   "pygments_lexer": "ipython3",
   "version": "3.8.10"
  }
 },
 "nbformat": 4,
 "nbformat_minor": 5
}
