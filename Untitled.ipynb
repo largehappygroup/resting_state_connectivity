{
 "cells": [
  {
   "cell_type": "code",
   "execution_count": 2,
   "id": "22ee22e8-c596-4ed7-86d7-ec0e357a4b37",
   "metadata": {},
   "outputs": [],
   "source": [
    "import numpy as np\n",
    "import pandas as pd\n",
    "import matplotlib.pyplot as plt"
   ]
  },
  {
   "cell_type": "code",
   "execution_count": 3,
   "id": "3e68ac77-02e7-46e1-a96b-10a6d1dfb1eb",
   "metadata": {},
   "outputs": [],
   "source": [
    "gpa = [\n",
    "3.3,\n",
    "2.36,\n",
    "3.9,\n",
    "3.3,\n",
    "3.38,\n",
    "3.46,\n",
    "3.2,\n",
    "2.8,\n",
    "3.33,\n",
    "3.42,\n",
    "3.309,\n",
    "3.33,\n",
    "3.2,\n",
    "3.81,\n",
    "3.9,\n",
    "3.2,\n",
    "3.5,\n",
    "3.7,\n",
    "3.65,\n",
    "3.8,\n",
    "3.42,\n",
    "4.0,\n",
    "3.98,\n",
    "3.8,\n",
    "3.25,\n",
    "4.0,\n",
    "3.93,\n",
    "3.84]\n",
    "experience = [\n",
    "11.5,\n",
    "1,\n",
    "3.5,\n",
    "6.5,\n",
    "3,\n",
    "5.5,\n",
    "4.5,\n",
    "7,\n",
    "3,\n",
    "1.5,\n",
    "2,\n",
    "15,\n",
    "5.5,\n",
    "2,\n",
    "4,\n",
    "3,\n",
    "3,\n",
    "1,\n",
    "2.5,\n",
    "4,\n",
    "1.5,\n",
    "9.5,\n",
    "6,\n",
    "10,\n",
    "6,\n",
    "11.5,\n",
    "6,\n",
    "5.5]"
   ]
  },
  {
   "cell_type": "code",
   "execution_count": 4,
   "id": "989e4566-449b-4fac-999a-cbe8ed38c530",
   "metadata": {},
   "outputs": [
    {
     "data": {
      "text/plain": [
       "array([[1.       , 0.1776869],\n",
       "       [0.1776869, 1.       ]])"
      ]
     },
     "execution_count": 4,
     "metadata": {},
     "output_type": "execute_result"
    }
   ],
   "source": [
    "np.corrcoef(experience, gpa)"
   ]
  },
  {
   "cell_type": "code",
   "execution_count": null,
   "id": "fdcc020b-6d98-4175-a6f5-8ede2f46757e",
   "metadata": {},
   "outputs": [],
   "source": []
  }
 ],
 "metadata": {
  "kernelspec": {
   "display_name": "Python 3 (ipykernel)",
   "language": "python",
   "name": "python3"
  },
  "language_info": {
   "codemirror_mode": {
    "name": "ipython",
    "version": 3
   },
   "file_extension": ".py",
   "mimetype": "text/x-python",
   "name": "python",
   "nbconvert_exporter": "python",
   "pygments_lexer": "ipython3",
   "version": "3.8.10"
  }
 },
 "nbformat": 4,
 "nbformat_minor": 5
}
