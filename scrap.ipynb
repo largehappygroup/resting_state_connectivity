{
 "cells": [
  {
   "cell_type": "code",
   "execution_count": null,
   "metadata": {},
   "outputs": [],
   "source": [
    "import scipy.stats as stats"
   ]
  },
  {
   "cell_type": "code",
   "execution_count": null,
   "metadata": {},
   "outputs": [],
   "source": [
    "nov = [18, 19,20,25,20,21,19,21,20,20,18,21,21,24,20,22,19,22,20,19,20,19,20,21,20]\n",
    "inter = [20, 19,21,21,21,23,21,21,19,23,21,20,21,21,22,21,22,27,23,21,22,22,24,21,22,22]\n",
    "exp = [22,22,24,20,25,26,23,22,23,26,27,23,25,24]\n",
    "\n",
    "stats.ttest_ind(nov, exp)"
   ]
  }
 ],
 "metadata": {
  "language_info": {
   "name": "python"
  }
 },
 "nbformat": 4,
 "nbformat_minor": 2
}
