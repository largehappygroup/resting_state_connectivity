{
 "cells": [
  {
   "cell_type": "code",
   "execution_count": 51,
   "id": "d41a676e-d28e-480b-87cb-48f0c74f9767",
   "metadata": {},
   "outputs": [],
   "source": [
    "import pickle\n",
    "import numpy as np\n",
    "import pandas as pd\n",
    "import scipy.io\n",
    "from tqdm import tqdm\n",
    "from scipy.stats import permutation_test"
   ]
  },
  {
   "cell_type": "code",
   "execution_count": 4,
   "id": "d0b09564-f3d0-421c-909c-ef4dad64c470",
   "metadata": {},
   "outputs": [],
   "source": [
    "nov = scipy.io.loadmat(\"/home/zachkaras/fmri/midprocessing/nov_connectivity.mat\")\n",
    "int = scipy.io.loadmat(\"/home/zachkaras/fmri/midprocessing/int_connectivity.mat\")\n",
    "exp = scipy.io.loadmat(\"/home/zachkaras/fmri/midprocessing/exp_connectivity.mat\")"
   ]
  },
  {
   "cell_type": "code",
   "execution_count": 21,
   "id": "997decfe-c80f-47ed-9d40-95aa533183ae",
   "metadata": {},
   "outputs": [],
   "source": [
    "nov_data = nov['nov_connectivity']\n",
    "int_data = int['int_connectivity']\n",
    "exp_data = exp['exp_connectivity']"
   ]
  },
  {
   "cell_type": "code",
   "execution_count": 52,
   "id": "f9bb01d7-4bb9-48fd-b782-46352f531237",
   "metadata": {},
   "outputs": [],
   "source": [
    "def test_statistic(x,y):\n",
    "    return np.mean(x) - np.mean(y)\n",
    "\n",
    "def run_permutation_test(group1, group2):\n",
    "    All_Seeds_Stats = []\n",
    "    All_Seeds_Pvals = []\n",
    "    for x in range(group1.shape[0]): # iterating through seed regions\n",
    "        stats = [0]*group1.shape[1]\n",
    "        pvals = [0]*group1.shape[1]\n",
    "        print(f\"seed {x} permutation testing...\")\n",
    "        for y in tqdm(range(group1.shape[1]), desc=\"Processing voxels\"): # voxels\n",
    "            group1_list = group1[x,y,:] # usually novices\n",
    "            group2_list = group2[x,y,:] # either intermediates or experts\n",
    "            result = permutation_test((group1_list, group2_list), test_statistic, alternative='two-sided')\n",
    "            stats[y] = result.statistic\n",
    "            pvals[y] = result.pvalue\n",
    "        All_Seeds_Stats.append(stats)\n",
    "        All_Seeds_Stats.append(pvals)\n",
    "    return [All_Seeds_Stats, All_Seeds_Pvals]"
   ]
  },
  {
   "cell_type": "code",
   "execution_count": null,
   "id": "230bfc1e-1050-4353-993a-f44e4ec8090f",
   "metadata": {},
   "outputs": [
    {
     "name": "stdout",
     "output_type": "stream",
     "text": [
      "seed 0 permutation testing...\n"
     ]
    },
    {
     "name": "stderr",
     "output_type": "stream",
     "text": [
      "Processing voxels:  23%|██████▋                      | 52670/228483 [3:36:07<11:40:07,  4.19it/s]"
     ]
    }
   ],
   "source": [
    "nov_exp_results = run_permutation_test(nov_data, exp_data)\n",
    "nov_int_results = run_permutation_test(nov_data, int_data)\n",
    "\n",
    "with open(\"../results/nov_exp_permutation_results.pkl\", \"wb\") as f:\n",
    "    pickle.dump(nov_exp_results, f)\n",
    "\n",
    "with open(\"../results/nov_int_permutation_results.pkl\", \"wb\") as f:\n",
    "    pickle.dump(nov_int_results, f)"
   ]
  },
  {
   "cell_type": "code",
   "execution_count": null,
   "id": "2a47b981-ccaa-4dad-8d5f-0032060d175d",
   "metadata": {},
   "outputs": [],
   "source": []
  }
 ],
 "metadata": {
  "kernelspec": {
   "display_name": "Python 3 (ipykernel)",
   "language": "python",
   "name": "python3"
  },
  "language_info": {
   "codemirror_mode": {
    "name": "ipython",
    "version": 3
   },
   "file_extension": ".py",
   "mimetype": "text/x-python",
   "name": "python",
   "nbconvert_exporter": "python",
   "pygments_lexer": "ipython3",
   "version": "3.8.10"
  }
 },
 "nbformat": 4,
 "nbformat_minor": 5
}
