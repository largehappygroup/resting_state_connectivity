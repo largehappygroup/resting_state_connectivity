{
 "cells": [
  {
   "cell_type": "code",
   "execution_count": 1,
   "id": "e8bc305f-5b75-40ce-8cdf-03ab7ace7394",
   "metadata": {},
   "outputs": [],
   "source": [
    "import os\n",
    "import re\n",
    "import numpy as np\n",
    "import pandas as pd\n",
    "import nibabel as nib\n",
    "import matplotlib.pyplot as plt\n",
    "from nibabel.testing import data_path"
   ]
  },
  {
   "cell_type": "code",
   "execution_count": 2,
   "id": "b4b21700-cf2c-4561-b655-549c15e18d60",
   "metadata": {},
   "outputs": [],
   "source": [
    "# move data from folders into shared folder\n",
    "filepath = \"/home/zachkaras/fmri/codeprose\"\n",
    "folders = os.listdir(filepath)\n",
    "\n",
    "for f in folders:\n",
    "    break\n",
    "    if f.startswith(\"out_\"):\n",
    "        pid = f[-3:]\n",
    "        preprocessed = f\"{filepath}/{f}/all_warped.nii.gz\"\n",
    "        ### os.system(f'mv {preprocessed} ../codeprose/preprocessed/{pid}_warped.nii.gz')\n",
    "files = os.listdir(\"../codeprose/preprocessed/\")"
   ]
  },
  {
   "cell_type": "code",
   "execution_count": 5,
   "id": "7ba8c64b-67fa-4377-b0cb-e9ea4252ad9a",
   "metadata": {},
   "outputs": [],
   "source": [
    "# load brain mask\n",
    "maskfile = \"/home/zachkaras/fsl/data/standard/MNI152_T1_2mm_brain_mask.nii.gz\"\n",
    "mask = nib.load(maskfile)\n",
    "mask = mask.get_fdata()\n",
    "brain_idx = np.argwhere(mask>0)\n",
    "\n",
    "# creating empty template\n",
    "nii_template = nib.load(maskfile)\n",
    "empty_brain = np.zeros(nii_template.shape)"
   ]
  },
  {
   "cell_type": "code",
   "execution_count": null,
   "id": "c1d29c3d-92cb-4906-9875-f4ac5c80733d",
   "metadata": {},
   "outputs": [],
   "source": [
    "# loading atlases and files \n",
    "cortex_atlas = nib.load('')"
   ]
  }
 ],
 "metadata": {
  "kernelspec": {
   "display_name": "Python 3 (ipykernel)",
   "language": "python",
   "name": "python3"
  },
  "language_info": {
   "codemirror_mode": {
    "name": "ipython",
    "version": 3
   },
   "file_extension": ".py",
   "mimetype": "text/x-python",
   "name": "python",
   "nbconvert_exporter": "python",
   "pygments_lexer": "ipython3",
   "version": "3.8.10"
  }
 },
 "nbformat": 4,
 "nbformat_minor": 5
}
