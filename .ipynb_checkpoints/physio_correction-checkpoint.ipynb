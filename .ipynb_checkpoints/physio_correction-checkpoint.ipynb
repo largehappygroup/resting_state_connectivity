{
 "cells": [
  {
   "cell_type": "code",
   "execution_count": 3,
   "id": "253f779c-0578-4b8c-b36e-3a043e5da64d",
   "metadata": {
    "scrolled": true
   },
   "outputs": [
    {
     "name": "stderr",
     "output_type": "stream",
     "text": [
      "'resample_files' is not found in the current folder or on the MATLAB path, but exists in:\n",
      "    /home/zachkaras/fmri/analysis\n",
      "\n",
      "Change the MATLAB current folder or add its folder to the MATLAB path."
     ]
    }
   ],
   "source": [
    "% loop through folders in three_studies_raw\n",
    "% if it has a physio folder, resample\n",
    "\n",
    "pathname = '~/fmri/three_studies_raw';\n",
    "files = dir(pathname); for i=3:numel(files) datadirs{i-2} = files(i).name; end\n",
    "\n",
    "% for loop through all folders\n",
    "for i=1:numel(datadirs)\n",
    "    physio_path = sprintf('~/fmri/three_studies_raw/%s/physio',datadirs{i});\n",
    "    \n",
    "    physio_files={};\n",
    "    if exist(physio_path,'dir')    \n",
    "        inner_dir = dir(physio_path);\n",
    "        \n",
    "        for i=3:numel(inner_dir)\n",
    "            datapath = sprintf(\"%s/%s\", physio_path, inner_dir(i).name);\n",
    "            physio_files{i-2} = datapath; \n",
    "        end\n",
    "        resample_files(physio_files)\n",
    "    end\n",
    "end"
   ]
  },
  {
   "cell_type": "code",
   "execution_count": 4,
   "id": "0435b35e-5468-48b5-87bf-fbdc4a3b8f70",
   "metadata": {},
   "outputs": [
    {
     "name": "stderr",
     "output_type": "stream",
     "text": [
      "Failed to execute. Please try again."
     ]
    }
   ],
   "source": [
    "addpath(genpath(pwd))"
   ]
  },
  {
   "cell_type": "code",
   "execution_count": 35,
   "id": "cd620e2f-2994-49dd-aad4-8090b9c3ecf1",
   "metadata": {},
   "outputs": [
    {
     "data": {
      "text/html": [
       "<html><body><pre>ans = 1</pre></body></html>"
      ],
      "text/plain": [
       "ans = 1"
      ]
     },
     "execution_count": 35,
     "metadata": {},
     "output_type": "execute_result"
    }
   ],
   "source": [
    "temp = linspace(1,600, 600);"
   ]
  },
  {
   "cell_type": "code",
   "execution_count": 5,
   "id": "1b146720-9691-4002-8f4b-be5b49c75e19",
   "metadata": {},
   "outputs": [
    {
     "name": "stderr",
     "output_type": "stream",
     "text": [
      "Failed to execute. Please try again."
     ]
    }
   ],
   "source": [
    "pwd"
   ]
  },
  {
   "cell_type": "code",
   "execution_count": 6,
   "id": "a0948413-1ea0-4647-8fa9-aa251ddc1972",
   "metadata": {},
   "outputs": [
    {
     "name": "stderr",
     "output_type": "stream",
     "text": [
      "Failed to execute. Please try again."
     ]
    }
   ],
   "source": [
    "2+2"
   ]
  },
  {
   "cell_type": "code",
   "execution_count": null,
   "id": "9b992413-fead-47b8-aacf-2bbf0c413e4c",
   "metadata": {},
   "outputs": [],
   "source": []
  }
 ],
 "metadata": {
  "kernelspec": {
   "display_name": "MATLAB Kernel",
   "language": "matlab",
   "name": "jupyter_matlab_kernel"
  },
  "language_info": {
   "file_extension": ".m",
   "mimetype": "text/x-matlab",
   "name": "matlab"
  }
 },
 "nbformat": 4,
 "nbformat_minor": 5
}
