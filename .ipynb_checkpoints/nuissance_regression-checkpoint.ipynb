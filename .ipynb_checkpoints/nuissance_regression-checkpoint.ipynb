{
 "cells": [
  {
   "cell_type": "code",
   "execution_count": 14,
   "id": "d016b974-6c50-4bc3-afc9-795ca16f3156",
   "metadata": {},
   "outputs": [],
   "source": [
    "% for loop iterating through participants in preprocessed folder\n",
    "datapath = \"/home/zachkaras/fmri/preprocessed/\";\n",
    "files = dir(datapath); \n",
    "\n",
    "for i=3:numel(files); \n",
    "    fnames{i-2}=files(i).name; \n",
    "end"
   ]
  },
  {
   "cell_type": "code",
   "execution_count": 18,
   "id": "2bd2b1bf-ef59-43e8-8f5d-35fda0b9a492",
   "metadata": {},
   "outputs": [],
   "source": [
    "addpath(genpath(\"/home/zachkaras/fmri/analysis\"))"
   ]
  },
  {
   "cell_type": "code",
   "execution_count": null,
   "id": "6773d22a-5dd6-4c37-9d32-b54b6257427e",
   "metadata": {},
   "outputs": [],
   "source": [
    "for i=1:numel(fnames)\n",
    "    tic\n",
    "    name = regexp(fnames{i}, '.nii.gz', 'split');\n",
    "    name = name{1};\n",
    "    \n",
    "    fprintf(\"regressing out nuissances for %s\\n\", name)\n",
    "\n",
    "    brain_path = sprintf(\"/home/zachkaras/fmri/preprocessed/%s.nii.gz\", name);\n",
    "    brain_data = niftiread(brain_path);\n",
    "\n",
    "    % find motion parameters file\n",
    "    motion_filepath = sprintf(\"/home/zachkaras/fmri/three_studies_raw/out_%s/st_mc.nii.par\", name);\n",
    "\n",
    "    % design matrix and data\n",
    "    X = make_design_matrix(motion_filepath);\n",
    "    Y = reshape(brain_data, [(91*109*91),600])';\n",
    "\n",
    "    % fitting parameters to brain signal\n",
    "    b = X\\Y;\n",
    "    Yhat = X*b;\n",
    "    YC = Y-Yhat;\n",
    "    YC = reshape(YC', [91,109,91,600]);\n",
    "    \n",
    "    outfile = sprintf(\"/home/zachkaras/fmri/motion_corrected/%s_mc\", name);\n",
    "\n",
    "    niftiwrite(YC, outfile);\n",
    "    compress_file = sprintf(\"gzip /home/zachkaras/fmri/motion_corrected/%s_mc.nii\", name);\n",
    "\n",
    "    system(compress_file);\n",
    "    toc\n",
    "%     break\n",
    "\n",
    "end"
   ]
  },
  {
   "cell_type": "code",
   "execution_count": null,
   "id": "b62b8262-da02-479d-bc9f-eb2558a4b3e1",
   "metadata": {},
   "outputs": [],
   "source": []
  }
 ],
 "metadata": {
  "kernelspec": {
   "display_name": "MATLAB Kernel",
   "language": "matlab",
   "name": "jupyter_matlab_kernel"
  },
  "language_info": {
   "file_extension": ".m",
   "mimetype": "text/x-matlab",
   "name": "matlab"
  }
 },
 "nbformat": 4,
 "nbformat_minor": 5
}
