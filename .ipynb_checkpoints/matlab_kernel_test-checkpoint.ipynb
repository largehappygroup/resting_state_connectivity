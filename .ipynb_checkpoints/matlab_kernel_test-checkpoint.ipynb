{
 "cells": [
  {
   "cell_type": "code",
   "execution_count": 1,
   "id": "989135b7-f542-4e7b-aa6d-4813e8164eef",
   "metadata": {},
   "outputs": [
    {
     "data": {
      "text/html": [
       "<html><body><pre>ans = 4</pre></body></html>"
      ],
      "text/plain": [
       "ans = 4"
      ]
     },
     "execution_count": 1,
     "metadata": {},
     "output_type": "execute_result"
    }
   ],
   "source": [
    "2+2"
   ]
  },
  {
   "cell_type": "code",
   "execution_count": 4,
   "id": "8246ae01-0d35-4919-a676-00375828090b",
   "metadata": {},
   "outputs": [],
   "source": [
    "test = niftiread('fmri/motion_corrected/101_mc.nii.gz');"
   ]
  },
  {
   "cell_type": "code",
   "execution_count": null,
   "id": "25660ae2-ca5c-4734-9471-2efc202e663e",
   "metadata": {},
   "outputs": [],
   "source": []
  }
 ],
 "metadata": {
  "kernelspec": {
   "display_name": "MATLAB Kernel",
   "language": "matlab",
   "name": "jupyter_matlab_kernel"
  },
  "language_info": {
   "file_extension": ".m",
   "mimetype": "text/x-matlab",
   "name": "matlab"
  }
 },
 "nbformat": 4,
 "nbformat_minor": 5
}
